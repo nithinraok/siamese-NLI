{
 "cells": [
  {
   "cell_type": "code",
   "execution_count": 1,
   "metadata": {},
   "outputs": [],
   "source": [
    "import nltk\n",
    "import torch\n",
    "import numpy as np"
   ]
  },
  {
   "cell_type": "code",
   "execution_count": 2,
   "metadata": {},
   "outputs": [
    {
     "name": "stderr",
     "output_type": "stream",
     "text": [
      "[nltk_data] Downloading package punkt to /home/coder/nltk_data...\n",
      "[nltk_data]   Package punkt is already up-to-date!\n"
     ]
    },
    {
     "data": {
      "text/plain": [
       "True"
      ]
     },
     "execution_count": 2,
     "metadata": {},
     "output_type": "execute_result"
    }
   ],
   "source": [
    "nltk.download('punkt')"
   ]
  },
  {
   "cell_type": "code",
   "execution_count": 3,
   "metadata": {},
   "outputs": [],
   "source": [
    "from InferSent.models import InferSent "
   ]
  },
  {
   "cell_type": "code",
   "execution_count": 4,
   "metadata": {},
   "outputs": [
    {
     "name": "stdout",
     "output_type": "stream",
     "text": [
      "Vocab size : 100000\n"
     ]
    }
   ],
   "source": [
    "# Load model\n",
    "model_version = 2\n",
    "MODEL_PATH = \"encoder/infersent%s.pkl\" % model_version\n",
    "params_model = {'bsize': 64, 'word_emb_dim': 300, 'enc_lstm_dim': 2048,\n",
    "                'pool_type': 'max', 'dpout_model': 0.0, 'version': model_version}\n",
    "model = InferSent(params_model)\n",
    "model.load_state_dict(torch.load(MODEL_PATH))\n",
    "\n",
    "# If infersent1 -> use GloVe embeddings. If infersent2 -> use InferSent embeddings.\n",
    "W2V_PATH = 'GloVe/glove.840B.300d.txt' if model_version == 1 else 'fastText/crawl-300d-2M.vec'\n",
    "model.set_w2v_path(W2V_PATH)\n",
    "\n",
    "# Load embeddings of K most frequent words\n",
    "model.build_vocab_k_words(K=100000)"
   ]
  },
  {
   "cell_type": "code",
   "execution_count": 5,
   "metadata": {},
   "outputs": [
    {
     "name": "stdout",
     "output_type": "stream",
     "text": [
      "InferSent(\n",
      "  (enc_lstm): LSTM(300, 2048, bidirectional=True)\n",
      ")\n"
     ]
    }
   ],
   "source": [
    "device = 'cuda' if torch.cuda.is_available() else 'cpu'\n",
    "model = model.to(device)\n",
    "print(model)"
   ]
  },
  {
   "cell_type": "code",
   "execution_count": 24,
   "metadata": {},
   "outputs": [
    {
     "name": "stdout",
     "output_type": "stream",
     "text": [
      "dev/neutral\n",
      "6470\n",
      "Nb words kept : 91009/91468 (99.5%)\n",
      "Speed : 218.8 sentences/s (gpu mode, bsize=128)\n",
      "nb sentences encoded : 6470\n",
      "dev/entailment\n",
      "6658\n",
      "Nb words kept : 89074/89513 (99.5%)\n",
      "Speed : 417.2 sentences/s (gpu mode, bsize=128)\n",
      "nb sentences encoded : 6658\n",
      "dev/contradiction\n",
      "6556\n",
      "Nb words kept : 89578/90051 (99.5%)\n",
      "Speed : 362.9 sentences/s (gpu mode, bsize=128)\n",
      "nb sentences encoded : 6556\n",
      "test/neutral\n",
      "6438\n",
      "Nb words kept : 90362/90869 (99.4%)\n",
      "Speed : 351.0 sentences/s (gpu mode, bsize=128)\n",
      "nb sentences encoded : 6438\n",
      "test/entailment\n",
      "6736\n",
      "Nb words kept : 90185/90712 (99.4%)\n",
      "Speed : 482.9 sentences/s (gpu mode, bsize=128)\n",
      "nb sentences encoded : 6736\n",
      "test/contradiction\n",
      "6474\n",
      "Nb words kept : 87768/88302 (99.4%)\n",
      "Speed : 381.1 sentences/s (gpu mode, bsize=128)\n",
      "nb sentences encoded : 6474\n"
     ]
    }
   ],
   "source": [
    "# Load some sentences\n",
    "for split in ['dev','test']:\n",
    "    for file in ['neutral','entailment','contradiction']:\n",
    "        print('{}/{}'.format(split,file))\n",
    "        sentences = []\n",
    "        with open('{}/{}.txt'.format(split,file)) as f:\n",
    "            for line in f:\n",
    "                sentences.append(line.strip())\n",
    "        print(len(sentences))\n",
    "\n",
    "        embeddings = model.encode(sentences, bsize=128, tokenize=True, verbose=True)\n",
    "        print('nb sentences encoded : {0}'.format(len(embeddings)))\n",
    "\n",
    "        embeddings.shape\n",
    "\n",
    "        np.save('{}/{}'.format(split,file),embeddings)\n",
    "\n",
    "        del embeddings"
   ]
  },
  {
   "cell_type": "code",
   "execution_count": 16,
   "metadata": {},
   "outputs": [],
   "source": [
    "a=np.load(\"train/entailment.npy\",mmap_mode='r')"
   ]
  },
  {
   "cell_type": "code",
   "execution_count": 17,
   "metadata": {},
   "outputs": [
    {
     "data": {
      "text/plain": [
       "(366832, 4096)"
      ]
     },
     "execution_count": 17,
     "metadata": {},
     "output_type": "execute_result"
    }
   ],
   "source": [
    "a.shape"
   ]
  },
  {
   "cell_type": "code",
   "execution_count": 18,
   "metadata": {},
   "outputs": [
    {
     "data": {
      "text/plain": [
       "memmap([ 0.00746889, -0.04436943,  0.1555068 , ..., -0.00516149,\n",
       "         0.02470247, -0.01385642], dtype=float32)"
      ]
     },
     "execution_count": 18,
     "metadata": {},
     "output_type": "execute_result"
    }
   ],
   "source": [
    "a[0]"
   ]
  },
  {
   "cell_type": "code",
   "execution_count": 19,
   "metadata": {},
   "outputs": [
    {
     "data": {
      "text/plain": [
       "memmap([ 0.00746889, -0.04436943,  0.15578723, ..., -0.02317487,\n",
       "        -0.04125318, -0.01385642], dtype=float32)"
      ]
     },
     "execution_count": 19,
     "metadata": {},
     "output_type": "execute_result"
    }
   ],
   "source": [
    "a[1]"
   ]
  },
  {
   "cell_type": "code",
   "execution_count": null,
   "metadata": {},
   "outputs": [],
   "source": []
  }
 ],
 "metadata": {
  "kernelspec": {
   "display_name": "Python 3",
   "language": "python",
   "name": "python3"
  },
  "language_info": {
   "codemirror_mode": {
    "name": "ipython",
    "version": 3
   },
   "file_extension": ".py",
   "mimetype": "text/x-python",
   "name": "python",
   "nbconvert_exporter": "python",
   "pygments_lexer": "ipython3",
   "version": "3.6.9"
  }
 },
 "nbformat": 4,
 "nbformat_minor": 4
}
