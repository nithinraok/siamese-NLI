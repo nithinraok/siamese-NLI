{
  "nbformat": 4,
  "nbformat_minor": 0,
  "metadata": {
    "kernelspec": {
      "name": "python3",
      "display_name": "Python 3"
    },
    "language_info": {
      "codemirror_mode": {
        "name": "ipython",
        "version": 3
      },
      "file_extension": ".py",
      "mimetype": "text/x-python",
      "name": "python",
      "nbconvert_exporter": "python",
      "pygments_lexer": "ipython3",
      "version": "3.6.9"
    },
    "colab": {
      "name": "get_bert.ipynb",
      "provenance": [],
      "collapsed_sections": [],
      "machine_shape": "hm"
    },
    "accelerator": "GPU"
  },
  "cells": [
    {
      "cell_type": "code",
      "metadata": {
        "id": "XH5iMgmkr06F",
        "colab_type": "code",
        "outputId": "701d8e63-505b-4f65-ee27-d59539c41df0",
        "colab": {
          "base_uri": "https://localhost:8080/",
          "height": 803
        }
      },
      "source": [
        "!pip install bert-embedding"
      ],
      "execution_count": 1,
      "outputs": [
        {
          "output_type": "stream",
          "text": [
            "Collecting bert-embedding\n",
            "  Downloading https://files.pythonhosted.org/packages/62/85/e0d56e29a055d8b3ba6da6e52afe404f209453057de95b90c01475c3ff75/bert_embedding-1.0.1-py3-none-any.whl\n",
            "Requirement already satisfied: typing==3.6.6 in /usr/local/lib/python3.6/dist-packages (from bert-embedding) (3.6.6)\n",
            "Collecting numpy==1.14.6\n",
            "\u001b[?25l  Downloading https://files.pythonhosted.org/packages/e5/c4/395ebb218053ba44d64935b3729bc88241ec279915e72100c5979db10945/numpy-1.14.6-cp36-cp36m-manylinux1_x86_64.whl (13.8MB)\n",
            "\u001b[K     |████████████████████████████████| 13.8MB 4.2MB/s \n",
            "\u001b[?25hCollecting gluonnlp==0.6.0\n",
            "\u001b[?25l  Downloading https://files.pythonhosted.org/packages/e2/07/037585c23bccec19ce333b402997d98b09e43cc8d2d86dc810d57249c5ff/gluonnlp-0.6.0.tar.gz (209kB)\n",
            "\u001b[K     |████████████████████████████████| 215kB 48.7MB/s \n",
            "\u001b[?25hCollecting mxnet==1.4.0\n",
            "\u001b[?25l  Downloading https://files.pythonhosted.org/packages/c0/e9/241aadccc4522f99adee5b6043f730d58adb7c001e0a68865a3728c3b4ae/mxnet-1.4.0-py2.py3-none-manylinux1_x86_64.whl (29.6MB)\n",
            "\u001b[K     |████████████████████████████████| 29.6MB 320kB/s \n",
            "\u001b[?25hCollecting graphviz<0.9.0,>=0.8.1\n",
            "  Downloading https://files.pythonhosted.org/packages/53/39/4ab213673844e0c004bed8a0781a0721a3f6bb23eb8854ee75c236428892/graphviz-0.8.4-py2.py3-none-any.whl\n",
            "Requirement already satisfied: requests>=2.20.0 in /usr/local/lib/python3.6/dist-packages (from mxnet==1.4.0->bert-embedding) (2.21.0)\n",
            "Requirement already satisfied: urllib3<1.25,>=1.21.1 in /usr/local/lib/python3.6/dist-packages (from requests>=2.20.0->mxnet==1.4.0->bert-embedding) (1.24.3)\n",
            "Requirement already satisfied: idna<2.9,>=2.5 in /usr/local/lib/python3.6/dist-packages (from requests>=2.20.0->mxnet==1.4.0->bert-embedding) (2.8)\n",
            "Requirement already satisfied: certifi>=2017.4.17 in /usr/local/lib/python3.6/dist-packages (from requests>=2.20.0->mxnet==1.4.0->bert-embedding) (2019.9.11)\n",
            "Requirement already satisfied: chardet<3.1.0,>=3.0.2 in /usr/local/lib/python3.6/dist-packages (from requests>=2.20.0->mxnet==1.4.0->bert-embedding) (3.0.4)\n",
            "Building wheels for collected packages: gluonnlp\n",
            "  Building wheel for gluonnlp (setup.py) ... \u001b[?25l\u001b[?25hdone\n",
            "  Created wheel for gluonnlp: filename=gluonnlp-0.6.0-cp36-none-any.whl size=259917 sha256=54d5eb4791cca5f7bde41aaf6f5e2e62dbefa9facd1d110e066b2f7a7476b17d\n",
            "  Stored in directory: /root/.cache/pip/wheels/ff/48/ac/a77c79aa416ba6dd7bf487f2280b0471034f66141617965914\n",
            "Successfully built gluonnlp\n",
            "\u001b[31mERROR: tensorflow 1.15.0 has requirement numpy<2.0,>=1.16.0, but you'll have numpy 1.14.6 which is incompatible.\u001b[0m\n",
            "\u001b[31mERROR: spacy 2.1.9 has requirement numpy>=1.15.0, but you'll have numpy 1.14.6 which is incompatible.\u001b[0m\n",
            "\u001b[31mERROR: imgaug 0.2.9 has requirement numpy>=1.15.0, but you'll have numpy 1.14.6 which is incompatible.\u001b[0m\n",
            "\u001b[31mERROR: fastai 1.0.59 has requirement numpy>=1.15, but you'll have numpy 1.14.6 which is incompatible.\u001b[0m\n",
            "\u001b[31mERROR: datascience 0.10.6 has requirement folium==0.2.1, but you'll have folium 0.8.3 which is incompatible.\u001b[0m\n",
            "\u001b[31mERROR: cvxpy 1.0.25 has requirement numpy>=1.15, but you'll have numpy 1.14.6 which is incompatible.\u001b[0m\n",
            "\u001b[31mERROR: blis 0.2.4 has requirement numpy>=1.15.0, but you'll have numpy 1.14.6 which is incompatible.\u001b[0m\n",
            "\u001b[31mERROR: albumentations 0.1.12 has requirement imgaug<0.2.7,>=0.2.5, but you'll have imgaug 0.2.9 which is incompatible.\u001b[0m\n",
            "Installing collected packages: numpy, gluonnlp, graphviz, mxnet, bert-embedding\n",
            "  Found existing installation: numpy 1.17.4\n",
            "    Uninstalling numpy-1.17.4:\n",
            "      Successfully uninstalled numpy-1.17.4\n",
            "  Found existing installation: graphviz 0.10.1\n",
            "    Uninstalling graphviz-0.10.1:\n",
            "      Successfully uninstalled graphviz-0.10.1\n",
            "Successfully installed bert-embedding-1.0.1 gluonnlp-0.6.0 graphviz-0.8.4 mxnet-1.4.0 numpy-1.14.6\n"
          ],
          "name": "stdout"
        },
        {
          "output_type": "display_data",
          "data": {
            "application/vnd.colab-display-data+json": {
              "pip_warning": {
                "packages": [
                  "numpy"
                ]
              }
            }
          },
          "metadata": {
            "tags": []
          }
        }
      ]
    },
    {
      "cell_type": "code",
      "metadata": {
        "id": "wv3Fya4LW8qW",
        "colab_type": "code",
        "colab": {}
      },
      "source": [
        "!nvidia-smi"
      ],
      "execution_count": 0,
      "outputs": []
    },
    {
      "cell_type": "code",
      "metadata": {
        "id": "4ds9deAhT2T8",
        "colab_type": "code",
        "outputId": "cec11cc9-699e-4ce4-b62d-c76cbd1720bd",
        "colab": {
          "base_uri": "https://localhost:8080/",
          "height": 480
        }
      },
      "source": [
        "!pip install mxnet-cu101"
      ],
      "execution_count": 2,
      "outputs": [
        {
          "output_type": "stream",
          "text": [
            "Collecting mxnet-cu101\n",
            "\u001b[?25l  Downloading https://files.pythonhosted.org/packages/57/aa/474e97edaa2064c4e57dfb5685290ffc188592878c8bc58a1dca770872b5/mxnet_cu101-1.5.1.post0-py2.py3-none-manylinux1_x86_64.whl (551.3MB)\n",
            "\u001b[K     |████████████████████████████████| 551.3MB 24kB/s \n",
            "\u001b[?25hRequirement already satisfied: requests<3,>=2.20.0 in /usr/local/lib/python3.6/dist-packages (from mxnet-cu101) (2.21.0)\n",
            "Collecting numpy<2.0.0,>1.16.0\n",
            "\u001b[?25l  Downloading https://files.pythonhosted.org/packages/d2/ab/43e678759326f728de861edbef34b8e2ad1b1490505f20e0d1f0716c3bf4/numpy-1.17.4-cp36-cp36m-manylinux1_x86_64.whl (20.0MB)\n",
            "\u001b[K     |████████████████████████████████| 20.0MB 31.4MB/s \n",
            "\u001b[?25hRequirement already satisfied: graphviz<0.9.0,>=0.8.1 in /usr/local/lib/python3.6/dist-packages (from mxnet-cu101) (0.8.4)\n",
            "Requirement already satisfied: idna<2.9,>=2.5 in /usr/local/lib/python3.6/dist-packages (from requests<3,>=2.20.0->mxnet-cu101) (2.8)\n",
            "Requirement already satisfied: urllib3<1.25,>=1.21.1 in /usr/local/lib/python3.6/dist-packages (from requests<3,>=2.20.0->mxnet-cu101) (1.24.3)\n",
            "Requirement already satisfied: certifi>=2017.4.17 in /usr/local/lib/python3.6/dist-packages (from requests<3,>=2.20.0->mxnet-cu101) (2019.9.11)\n",
            "Requirement already satisfied: chardet<3.1.0,>=3.0.2 in /usr/local/lib/python3.6/dist-packages (from requests<3,>=2.20.0->mxnet-cu101) (3.0.4)\n",
            "\u001b[31mERROR: mxnet 1.4.0 has requirement numpy<1.15.0,>=1.8.2, but you'll have numpy 1.17.4 which is incompatible.\u001b[0m\n",
            "\u001b[31mERROR: datascience 0.10.6 has requirement folium==0.2.1, but you'll have folium 0.8.3 which is incompatible.\u001b[0m\n",
            "\u001b[31mERROR: bert-embedding 1.0.1 has requirement numpy==1.14.6, but you'll have numpy 1.17.4 which is incompatible.\u001b[0m\n",
            "\u001b[31mERROR: albumentations 0.1.12 has requirement imgaug<0.2.7,>=0.2.5, but you'll have imgaug 0.2.9 which is incompatible.\u001b[0m\n",
            "Installing collected packages: numpy, mxnet-cu101\n",
            "  Found existing installation: numpy 1.14.6\n",
            "    Uninstalling numpy-1.14.6:\n",
            "      Successfully uninstalled numpy-1.14.6\n",
            "Successfully installed mxnet-cu101-1.5.1.post0 numpy-1.17.4\n"
          ],
          "name": "stdout"
        },
        {
          "output_type": "display_data",
          "data": {
            "application/vnd.colab-display-data+json": {
              "pip_warning": {
                "packages": [
                  "numpy"
                ]
              }
            }
          },
          "metadata": {
            "tags": []
          }
        }
      ]
    },
    {
      "cell_type": "code",
      "metadata": {
        "id": "rCHlmji5jayB",
        "colab_type": "code",
        "outputId": "8b807f37-f28c-4455-fb9b-ab7fe7e0f4e4",
        "colab": {
          "base_uri": "https://localhost:8080/",
          "height": 122
        }
      },
      "source": [
        "from google.colab import drive\n",
        "drive.mount('/content/drive')"
      ],
      "execution_count": 3,
      "outputs": [
        {
          "output_type": "stream",
          "text": [
            "Go to this URL in a browser: https://accounts.google.com/o/oauth2/auth?client_id=947318989803-6bn6qk8qdgf4n4g3pfee6491hc0brc4i.apps.googleusercontent.com&redirect_uri=urn%3aietf%3awg%3aoauth%3a2.0%3aoob&response_type=code&scope=email%20https%3a%2f%2fwww.googleapis.com%2fauth%2fdocs.test%20https%3a%2f%2fwww.googleapis.com%2fauth%2fdrive%20https%3a%2f%2fwww.googleapis.com%2fauth%2fdrive.photos.readonly%20https%3a%2f%2fwww.googleapis.com%2fauth%2fpeopleapi.readonly\n",
            "\n",
            "Enter your authorization code:\n",
            "··········\n",
            "Mounted at /content/drive\n"
          ],
          "name": "stdout"
        }
      ]
    },
    {
      "cell_type": "code",
      "metadata": {
        "id": "9NUmQRwSjc2-",
        "colab_type": "code",
        "colab": {}
      },
      "source": [
        "import os\n",
        "os.chdir('drive/My Drive/snli_data')"
      ],
      "execution_count": 0,
      "outputs": []
    },
    {
      "cell_type": "code",
      "metadata": {
        "id": "9wYK4MS5qr21",
        "colab_type": "code",
        "colab": {
          "base_uri": "https://localhost:8080/",
          "height": 88
        },
        "outputId": "513bfa07-b9f1-4526-d5fb-1cf6c535515b"
      },
      "source": [
        "import mxnet as mx\n",
        "from bert_embedding import BertEmbedding\n",
        "\n",
        "...\n",
        "\n",
        "ctx = mx.gpu(0)\n",
        "bert = BertEmbedding(ctx=ctx)"
      ],
      "execution_count": 5,
      "outputs": [
        {
          "output_type": "stream",
          "text": [
            "Vocab file is not found. Downloading.\n",
            "Downloading /root/.mxnet/models/book_corpus_wiki_en_uncased-a6607397.zip from https://apache-mxnet.s3-accelerate.dualstack.amazonaws.com/gluon/dataset/vocab/book_corpus_wiki_en_uncased-a6607397.zip...\n",
            "Downloading /root/.mxnet/models/bert_12_768_12_book_corpus_wiki_en_uncased-75cc780f.zip from https://apache-mxnet.s3-accelerate.dualstack.amazonaws.com/gluon/models/bert_12_768_12_book_corpus_wiki_en_uncased-75cc780f.zip...\n"
          ],
          "name": "stdout"
        }
      ]
    },
    {
      "cell_type": "code",
      "metadata": {
        "id": "_tQ3DyliZQH2",
        "colab_type": "code",
        "outputId": "6c7aad20-9870-4c16-9ebf-23e302ea2ce5",
        "colab": {
          "base_uri": "https://localhost:8080/",
          "height": 275
        }
      },
      "source": [
        "!pip install ipdb"
      ],
      "execution_count": 0,
      "outputs": [
        {
          "output_type": "stream",
          "text": [
            "Requirement already satisfied: ipdb in /usr/local/lib/python3.6/dist-packages (0.12.2)\n",
            "Requirement already satisfied: setuptools in /usr/local/lib/python3.6/dist-packages (from ipdb) (41.6.0)\n",
            "Requirement already satisfied: ipython>=5.1.0; python_version >= \"3.4\" in /usr/local/lib/python3.6/dist-packages (from ipdb) (5.5.0)\n",
            "Requirement already satisfied: pexpect; sys_platform != \"win32\" in /usr/local/lib/python3.6/dist-packages (from ipython>=5.1.0; python_version >= \"3.4\"->ipdb) (4.7.0)\n",
            "Requirement already satisfied: decorator in /usr/local/lib/python3.6/dist-packages (from ipython>=5.1.0; python_version >= \"3.4\"->ipdb) (4.4.1)\n",
            "Requirement already satisfied: pickleshare in /usr/local/lib/python3.6/dist-packages (from ipython>=5.1.0; python_version >= \"3.4\"->ipdb) (0.7.5)\n",
            "Requirement already satisfied: traitlets>=4.2 in /usr/local/lib/python3.6/dist-packages (from ipython>=5.1.0; python_version >= \"3.4\"->ipdb) (4.3.3)\n",
            "Requirement already satisfied: prompt-toolkit<2.0.0,>=1.0.4 in /usr/local/lib/python3.6/dist-packages (from ipython>=5.1.0; python_version >= \"3.4\"->ipdb) (1.0.18)\n",
            "Requirement already satisfied: simplegeneric>0.8 in /usr/local/lib/python3.6/dist-packages (from ipython>=5.1.0; python_version >= \"3.4\"->ipdb) (0.8.1)\n",
            "Requirement already satisfied: pygments in /usr/local/lib/python3.6/dist-packages (from ipython>=5.1.0; python_version >= \"3.4\"->ipdb) (2.1.3)\n",
            "Requirement already satisfied: ptyprocess>=0.5 in /usr/local/lib/python3.6/dist-packages (from pexpect; sys_platform != \"win32\"->ipython>=5.1.0; python_version >= \"3.4\"->ipdb) (0.6.0)\n",
            "Requirement already satisfied: six in /usr/local/lib/python3.6/dist-packages (from traitlets>=4.2->ipython>=5.1.0; python_version >= \"3.4\"->ipdb) (1.12.0)\n",
            "Requirement already satisfied: ipython-genutils in /usr/local/lib/python3.6/dist-packages (from traitlets>=4.2->ipython>=5.1.0; python_version >= \"3.4\"->ipdb) (0.2.0)\n",
            "Requirement already satisfied: wcwidth in /usr/local/lib/python3.6/dist-packages (from prompt-toolkit<2.0.0,>=1.0.4->ipython>=5.1.0; python_version >= \"3.4\"->ipdb) (0.1.7)\n"
          ],
          "name": "stdout"
        }
      ]
    },
    {
      "cell_type": "code",
      "metadata": {
        "id": "122TWvyRaydq",
        "colab_type": "code",
        "colab": {}
      },
      "source": [
        "import numpy as np\n",
        "# !rm data_8k/*/*.npy"
      ],
      "execution_count": 0,
      "outputs": []
    },
    {
      "cell_type": "code",
      "metadata": {
        "id": "5vCqgCKT41oI",
        "colab_type": "code",
        "outputId": "eb766d31-54d3-4ea0-bbea-c83efc36ebb0",
        "colab": {
          "base_uri": "https://localhost:8080/",
          "height": 68
        }
      },
      "source": [
        "!mkdir data_8k/dev data_8k/test data_8k/train "
      ],
      "execution_count": 0,
      "outputs": [
        {
          "output_type": "stream",
          "text": [
            "mkdir: cannot create directory ‘data_8k/dev’: File exists\n",
            "mkdir: cannot create directory ‘data_8k/test’: File exists\n",
            "mkdir: cannot create directory ‘data_8k/train’: File exists\n"
          ],
          "name": "stdout"
        }
      ]
    },
    {
      "cell_type": "code",
      "metadata": {
        "id": "eL5gDyyeY3Yb",
        "colab_type": "code",
        "outputId": "14b50759-47ac-4fc2-eeef-d4e065b62bfe",
        "colab": {
          "base_uri": "https://localhost:8080/",
          "height": 1000
        }
      },
      "source": [
        "# import ipdb\n",
        "max_len=50000\n",
        "# Load some sentences\n",
        "for split in ['dev',\"train\",'test']:\n",
        "  for file in ['neutral','entailment','contradiction']:\n",
        "    print('{}/{}'.format(split,file))\n",
        "    count=0\n",
        "    file_count=0\n",
        "    sentence_len=[]\n",
        "    sentences = []\n",
        "    with open('data/{}/{}.txt'.format(split,file)) as f:\n",
        "      for line in f:\n",
        "        count+=1\n",
        "        sentences.append(line.strip())\n",
        "\n",
        "\n",
        "        if count%max_len==0:\n",
        "          print(len(sentences))\n",
        "          \n",
        "          bert_embeddings = bert(sentences)\n",
        "          embeddings=np.empty((len(bert_embeddings),32,768))\n",
        "          sentences=[]\n",
        "          print('nb sentences encoded : {0}'.format(len(bert_embeddings)))\n",
        "          for i,sentence in enumerate(bert_embeddings):\n",
        "            array = np.asarray(sentence[1])\n",
        "            sentence_len.append(array.shape[0])\n",
        "            if array.shape[0]>32:\n",
        "              embeddings[i]=array[:32]\n",
        "            else:\n",
        "              embeddings[i,:array.shape[0],:]=array\n",
        "          np.save('data_8k/{}/{}'.format(split,\"bert_\"+str(file_count)+\"_\"+file),embeddings)\n",
        "          np.save('data_8k/{}/{}'.format(split,\"sent_bert_\"+str(file_count)+\"_\"+file),sentence_len)\n",
        "          file_count+=1\n",
        "          embeddings=[]\n",
        "          sentence_len=[]\n",
        "          print(file_count,count)\n",
        "\n",
        "\n",
        "      # embeddings.shape\n",
        "# ipdb.set_trace()\n",
        "    if len(sentences):\n",
        "      # embeddings=[]\n",
        "      bert_embeddings = bert(sentences)\n",
        "      embeddings=np.empty((len(bert_embeddings),32,768))\n",
        "      sentences=[]\n",
        "      print('nb sentences encoded : {0}'.format(len(bert_embeddings)))\n",
        "      for i,sentence in enumerate(bert_embeddings):\n",
        "        array = np.asarray(sentence[1])\n",
        "        sentence_len.append(array.shape[0])\n",
        "        if array.shape[0]>32:\n",
        "          embeddings[i]=array[:32]\n",
        "        else:\n",
        "          embeddings[i,:array.shape[0],:]=array\n",
        "\n",
        "      np.save('data_8k/{}/{}'.format(split,\"bert_\"+str(file_count)+\"_\"+file),embeddings)\n",
        "      np.save('data_8k/{}/{}'.format(split,\"sent_bert_\"+str(file_count)+\"_\"+file),sentence_len)\n",
        "      file_count+=1\n",
        "      embeddings=[]\n",
        "      sentence_len=[]\n",
        "  \n",
        "  print(\"Done \",split,file)\n",
        "\n",
        "        # del embeddings"
      ],
      "execution_count": 22,
      "outputs": [
        {
          "output_type": "stream",
          "text": [
            "dev/neutral\n",
            "nb sentences encoded : 6470\n",
            "dev/entailment\n",
            "nb sentences encoded : 6658\n",
            "dev/contradiction\n",
            "nb sentences encoded : 6556\n",
            "Done  dev contradiction\n",
            "train/neutral\n",
            "50000\n",
            "nb sentences encoded : 50000\n",
            "1 50000\n",
            "50000\n",
            "nb sentences encoded : 50000\n",
            "2 100000\n",
            "50000\n",
            "nb sentences encoded : 50000\n",
            "3 150000\n",
            "50000\n",
            "nb sentences encoded : 50000\n",
            "4 200000\n",
            "50000\n",
            "nb sentences encoded : 50000\n",
            "5 250000\n",
            "50000\n",
            "nb sentences encoded : 50000\n",
            "6 300000\n",
            "50000\n",
            "nb sentences encoded : 50000\n",
            "7 350000\n",
            "nb sentences encoded : 15528\n",
            "train/entailment\n",
            "50000\n",
            "nb sentences encoded : 50000\n",
            "1 50000\n",
            "50000\n",
            "nb sentences encoded : 50000\n",
            "2 100000\n",
            "50000\n",
            "nb sentences encoded : 50000\n",
            "3 150000\n",
            "50000\n",
            "nb sentences encoded : 50000\n",
            "4 200000\n",
            "50000\n",
            "nb sentences encoded : 50000\n",
            "5 250000\n",
            "50000\n",
            "nb sentences encoded : 50000\n",
            "6 300000\n",
            "50000\n",
            "nb sentences encoded : 50000\n",
            "7 350000\n",
            "nb sentences encoded : 16832\n",
            "train/contradiction\n",
            "50000\n",
            "nb sentences encoded : 50000\n",
            "1 50000\n",
            "50000\n",
            "nb sentences encoded : 50000\n",
            "2 100000\n",
            "50000\n",
            "nb sentences encoded : 50000\n",
            "3 150000\n",
            "50000\n",
            "nb sentences encoded : 50000\n",
            "4 200000\n",
            "50000\n",
            "nb sentences encoded : 50000\n",
            "5 250000\n",
            "50000\n",
            "nb sentences encoded : 50000\n",
            "6 300000\n",
            "50000\n",
            "nb sentences encoded : 50000\n",
            "7 350000\n",
            "nb sentences encoded : 16374\n",
            "Done  train contradiction\n",
            "test/neutral\n",
            "nb sentences encoded : 6438\n",
            "test/entailment\n",
            "nb sentences encoded : 6736\n",
            "test/contradiction\n",
            "nb sentences encoded : 6474\n",
            "Done  test contradiction\n"
          ],
          "name": "stdout"
        }
      ]
    },
    {
      "cell_type": "code",
      "metadata": {
        "colab_type": "code",
        "id": "UIAj4f_XqqzU",
        "colab": {}
      },
      "source": [
        "a=np.load(\"data/train/entailment.npy\",mmap_mode='r')"
      ],
      "execution_count": 0,
      "outputs": []
    },
    {
      "cell_type": "code",
      "metadata": {
        "id": "ajHlMB7ZjWF3",
        "colab_type": "code",
        "outputId": "5c09e9c2-0db0-4ebd-d033-b08d414ccebd",
        "colab": {}
      },
      "source": [
        "a.shape"
      ],
      "execution_count": 0,
      "outputs": [
        {
          "output_type": "execute_result",
          "data": {
            "text/plain": [
              "(366832, 4096)"
            ]
          },
          "metadata": {
            "tags": []
          },
          "execution_count": 17
        }
      ]
    },
    {
      "cell_type": "code",
      "metadata": {
        "id": "RWeqvP22jWF5",
        "colab_type": "code",
        "outputId": "2f31725d-8276-4265-d74e-9f59dd525d0e",
        "colab": {}
      },
      "source": [
        "a[0]"
      ],
      "execution_count": 0,
      "outputs": [
        {
          "output_type": "execute_result",
          "data": {
            "text/plain": [
              "memmap([ 0.00746889, -0.04436943,  0.1555068 , ..., -0.00516149,\n",
              "         0.02470247, -0.01385642], dtype=float32)"
            ]
          },
          "metadata": {
            "tags": []
          },
          "execution_count": 18
        }
      ]
    },
    {
      "cell_type": "code",
      "metadata": {
        "id": "V7pggWHyjWF7",
        "colab_type": "code",
        "outputId": "d1f2824f-d70d-4e8f-dffc-e123eb973b61",
        "colab": {}
      },
      "source": [
        "a[1]"
      ],
      "execution_count": 0,
      "outputs": [
        {
          "output_type": "execute_result",
          "data": {
            "text/plain": [
              "memmap([ 0.00746889, -0.04436943,  0.15578723, ..., -0.02317487,\n",
              "        -0.04125318, -0.01385642], dtype=float32)"
            ]
          },
          "metadata": {
            "tags": []
          },
          "execution_count": 19
        }
      ]
    },
    {
      "cell_type": "code",
      "metadata": {
        "id": "dmwqaCwRjWF-",
        "colab_type": "code",
        "colab": {}
      },
      "source": [
        ""
      ],
      "execution_count": 0,
      "outputs": []
    }
  ]
}